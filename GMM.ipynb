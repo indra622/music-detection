{
 "cells": [
  {
   "cell_type": "code",
   "execution_count": 1,
   "id": "6762e737-1654-462d-b1bd-e1660c1d6ff4",
   "metadata": {},
   "outputs": [],
   "source": [
    "from numpy import genfromtxt\n",
    "import numpy as np"
   ]
  },
  {
   "cell_type": "code",
   "execution_count": 2,
   "id": "e6afab5c-3a0e-4863-a051-aa1ff9b50d66",
   "metadata": {},
   "outputs": [],
   "source": [
    "data_train = genfromtxt('youtube.csv', delimiter=',')"
   ]
  },
  {
   "cell_type": "code",
   "execution_count": 3,
   "id": "1c77e9d9-0ddd-4d70-be56-a04409fbd5c3",
   "metadata": {},
   "outputs": [],
   "source": [
    "data_test = genfromtxt('test.csv', delimiter=',')"
   ]
  },
  {
   "cell_type": "code",
   "execution_count": null,
   "id": "660d0dd8-f5ad-4d43-96f3-71f933f914bb",
   "metadata": {},
   "outputs": [],
   "source": [
    "data = data[:, :34]\n",
    "data.shape"
   ]
  },
  {
   "cell_type": "code",
   "execution_count": null,
   "id": "b9aaf50c-bad5-4c50-b6f9-a7fd70d51de5",
   "metadata": {},
   "outputs": [],
   "source": [
    "data_train = data[:2000]\n",
    "data_test = data[2000:]\n",
    "data_test.shape"
   ]
  },
  {
   "cell_type": "code",
   "execution_count": 4,
   "id": "d5dd1135-9ec1-4ea4-a34e-8e452cffc61c",
   "metadata": {},
   "outputs": [],
   "source": [
    "from sklearn.mixture import GaussianMixture\n",
    "from sklearn.isotonic import IsotonicRegression"
   ]
  },
  {
   "cell_type": "code",
   "execution_count": 5,
   "id": "01b05699-6009-430f-89b0-8ee0a8aebe22",
   "metadata": {},
   "outputs": [
    {
     "data": {
      "text/plain": [
       "GaussianMixture(covariance_type='spherical', max_iter=10000000, n_components=34)"
      ]
     },
     "execution_count": 5,
     "metadata": {},
     "output_type": "execute_result"
    }
   ],
   "source": [
    "gmm_clf = GaussianMixture(covariance_type='spherical', n_components=34, max_iter=int(1e7))\n",
    "gmm_clf.fit(data_train)"
   ]
  },
  {
   "cell_type": "code",
   "execution_count": 6,
   "id": "075f56cc-8cc9-42e4-90de-08522e7994d7",
   "metadata": {},
   "outputs": [],
   "source": [
    "log_probs_val = gmm_clf.score_samples(data_test)"
   ]
  },
  {
   "cell_type": "code",
   "execution_count": 7,
   "id": "9ce38c99-a5ea-4937-86ac-3c24cca8a7ed",
   "metadata": {},
   "outputs": [
    {
     "data": {
      "text/plain": [
       "(200,)"
      ]
     },
     "execution_count": 7,
     "metadata": {},
     "output_type": "execute_result"
    }
   ],
   "source": [
    "a = np.ones(100)\n",
    "b = np.zeros(100)\n",
    "y_val = np.append(a,b, axis=0)\n",
    "y_val.shape"
   ]
  },
  {
   "cell_type": "code",
   "execution_count": null,
   "id": "5c59c336-bef5-4e76-b900-91d85c9d03dc",
   "metadata": {},
   "outputs": [],
   "source": [
    "y_val"
   ]
  },
  {
   "cell_type": "code",
   "execution_count": 8,
   "id": "ca7f4342-a519-42d7-b283-c781d8f3c184",
   "metadata": {},
   "outputs": [
    {
     "data": {
      "text/plain": [
       "IsotonicRegression(out_of_bounds='clip')"
      ]
     },
     "execution_count": 8,
     "metadata": {},
     "output_type": "execute_result"
    }
   ],
   "source": [
    "isotonic_regressor = IsotonicRegression(out_of_bounds='clip')\n",
    "isotonic_regressor.fit(log_probs_val, y_val)"
   ]
  },
  {
   "cell_type": "code",
   "execution_count": 9,
   "id": "d410b29e-b8c2-4c6b-86ed-2855136a3a38",
   "metadata": {},
   "outputs": [],
   "source": [
    "test_probs = isotonic_regressor.predict(log_probs_val)"
   ]
  },
  {
   "cell_type": "code",
   "execution_count": 10,
   "id": "1d8d13eb-b87e-40b0-bbbb-085f93622dc3",
   "metadata": {},
   "outputs": [],
   "source": [
    "test_predictions = [1 if prob >= 0.5 else 0 for prob in test_probs]"
   ]
  },
  {
   "cell_type": "code",
   "execution_count": 11,
   "id": "c526a1f6-3d7b-42b4-863b-4f3df4d1e52d",
   "metadata": {},
   "outputs": [
    {
     "data": {
      "text/plain": [
       "200"
      ]
     },
     "execution_count": 11,
     "metadata": {},
     "output_type": "execute_result"
    }
   ],
   "source": [
    "len(test_predictions)"
   ]
  },
  {
   "cell_type": "code",
   "execution_count": 14,
   "id": "14f331dc-ef21-4cd8-ae02-f47cc2efd5bb",
   "metadata": {},
   "outputs": [],
   "source": [
    "ref = np.array(test_predictions)\n",
    "\n",
    "me = (ref==y_val)"
   ]
  }
 ],
 "metadata": {
  "kernelspec": {
   "display_name": "Python 3 (ipykernel)",
   "language": "python",
   "name": "python3"
  },
  "language_info": {
   "codemirror_mode": {
    "name": "ipython",
    "version": 3
   },
   "file_extension": ".py",
   "mimetype": "text/x-python",
   "name": "python",
   "nbconvert_exporter": "python",
   "pygments_lexer": "ipython3",
   "version": "3.8.11"
  }
 },
 "nbformat": 4,
 "nbformat_minor": 5
}
