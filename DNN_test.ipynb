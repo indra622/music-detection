{
 "cells": [
  {
   "cell_type": "code",
   "execution_count": null,
   "id": "28cdfe27-7629-4b8c-8c22-0230506a4f04",
   "metadata": {},
   "outputs": [],
   "source": [
    "from src.featureExtract.feature import calFeatures\n",
    "from src.classifier.model import MusicClassifier\n",
    "from src.audioIO import record, load\n",
    "import wave\n",
    "import numpy as np\n",
    "import matplotlib.pyplot as plt"
   ]
  },
  {
   "cell_type": "code",
   "execution_count": null,
   "id": "3555bf73-5ee9-4683-9705-f0c2763514ff",
   "metadata": {},
   "outputs": [],
   "source": [
    "model = MusicClassifier(\"data/model/youtube.h5\")\n",
    "model.getDataInfo(\"train_dnn.csv\")"
   ]
  },
  {
   "cell_type": "code",
   "execution_count": null,
   "id": "bcf36c4a-7e32-4b5e-b385-e805aaebd8d4",
   "metadata": {},
   "outputs": [],
   "source": [
    "feats, names = calFeatures('data/demo_chunks/291.wav')"
   ]
  },
  {
   "cell_type": "code",
   "execution_count": null,
   "id": "d37f8ac3-7a32-4d45-8c71-a77c0adb7e52",
   "metadata": {},
   "outputs": [],
   "source": [
    "feats[0].shape"
   ]
  },
  {
   "cell_type": "code",
   "execution_count": null,
   "id": "bdfd36d5-90aa-413d-86d1-6065e9739d58",
   "metadata": {},
   "outputs": [],
   "source": [
    "result = model.detect(feats)"
   ]
  },
  {
   "cell_type": "code",
   "execution_count": null,
   "id": "4e2ace21-b567-466c-8cbb-d99693cb2b2f",
   "metadata": {},
   "outputs": [],
   "source": [
    "result"
   ]
  },
  {
   "cell_type": "code",
   "execution_count": null,
   "id": "a5738ca2-4d8f-420e-94c9-6652a8304479",
   "metadata": {},
   "outputs": [],
   "source": [
    "from numpy import genfromtxt\n",
    "data_test = genfromtxt('ted_test.csv', delimiter=',')"
   ]
  },
  {
   "cell_type": "code",
   "execution_count": null,
   "id": "d3918edc-1891-4fc1-a39c-a7ca4042ff83",
   "metadata": {},
   "outputs": [],
   "source": [
    "data_test.shape"
   ]
  },
  {
   "cell_type": "code",
   "execution_count": null,
   "id": "bd552383-4a20-4de8-b2ff-8c54e793b0d2",
   "metadata": {},
   "outputs": [],
   "source": [
    "a = np.ones(100)\n",
    "b = np.zeros(100)\n",
    "y_val = np.append(a,b, axis=0)\n",
    "y_val.shape"
   ]
  },
  {
   "cell_type": "code",
   "execution_count": null,
   "id": "91fee629-c5bb-4d87-9031-2384dbc920cb",
   "metadata": {},
   "outputs": [],
   "source": [
    "ff = data_test.tolist()"
   ]
  },
  {
   "cell_type": "code",
   "execution_count": null,
   "id": "5a405006-2144-46c7-a544-9ef3ad89a90c",
   "metadata": {},
   "outputs": [],
   "source": []
  },
  {
   "cell_type": "code",
   "execution_count": null,
   "id": "01dd41f9-5703-4ea2-b480-6fbfbec0d521",
   "metadata": {},
   "outputs": [],
   "source": [
    "results = model.predict_softmax(ff)"
   ]
  },
  {
   "cell_type": "code",
   "execution_count": null,
   "id": "1564d4af-3011-4b78-bc08-8389f30e573a",
   "metadata": {},
   "outputs": [],
   "source": [
    "ji = np.array(results).astype(int)"
   ]
  },
  {
   "cell_type": "code",
   "execution_count": null,
   "id": "cfd13c83-0561-4fab-8837-9a6a75e26ee2",
   "metadata": {},
   "outputs": [],
   "source": [
    "np.unique(a ==ji,return_counts=True)"
   ]
  },
  {
   "cell_type": "code",
   "execution_count": null,
   "id": "38225bea-7b55-463c-a69a-2ec8c4f9537e",
   "metadata": {},
   "outputs": [],
   "source": [
    "ji"
   ]
  },
  {
   "cell_type": "code",
   "execution_count": null,
   "id": "c4bd299b-ec2e-47b7-a3f5-1749238461c6",
   "metadata": {},
   "outputs": [],
   "source": [
    "results"
   ]
  },
  {
   "cell_type": "code",
   "execution_count": null,
   "id": "43ff3a36-6618-45f4-bfc8-678bcff69670",
   "metadata": {},
   "outputs": [],
   "source": []
  }
 ],
 "metadata": {
  "kernelspec": {
   "display_name": "Python 3 (ipykernel)",
   "language": "python",
   "name": "python3"
  },
  "language_info": {
   "codemirror_mode": {
    "name": "ipython",
    "version": 3
   },
   "file_extension": ".py",
   "mimetype": "text/x-python",
   "name": "python",
   "nbconvert_exporter": "python",
   "pygments_lexer": "ipython3",
   "version": "3.8.11"
  }
 },
 "nbformat": 4,
 "nbformat_minor": 5
}
