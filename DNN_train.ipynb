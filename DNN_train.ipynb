{
 "cells": [
  {
   "cell_type": "code",
   "execution_count": null,
   "id": "adc461aa-ae52-409e-9de4-699f1cd1b065",
   "metadata": {},
   "outputs": [],
   "source": [
    "from keras.models import Sequential\n",
    "from keras.layers import Dense\n",
    "from src.classifier.prepareData import Classifier_dataset"
   ]
  },
  {
   "cell_type": "code",
   "execution_count": null,
   "id": "0b354cd6-bdb3-4d1f-b4e1-b8d449e9b17c",
   "metadata": {},
   "outputs": [],
   "source": [
    "data_set = Classifier_dataset(\"data/data_set/train_dnn.csv\")"
   ]
  },
  {
   "cell_type": "code",
   "execution_count": null,
   "id": "44a4866d-523c-4753-a8fc-92b4649470dd",
   "metadata": {},
   "outputs": [],
   "source": [
    "label, data = data_set.prepareData(('1-ZCRm', '34-ChromaDeviationm'), 'class', True)"
   ]
  },
  {
   "cell_type": "code",
   "execution_count": null,
   "id": "cc039a15-e5f4-4ed4-8723-91b0c6ea75c9",
   "metadata": {},
   "outputs": [],
   "source": [
    "label.shape"
   ]
  },
  {
   "cell_type": "code",
   "execution_count": null,
   "id": "13cd90ff-95c0-4dd1-b34a-393f1ea4aa0c",
   "metadata": {},
   "outputs": [],
   "source": [
    "data = data.astype(float)"
   ]
  },
  {
   "cell_type": "code",
   "execution_count": null,
   "id": "4864f5ce-5e20-47b0-bec8-366bb11a5172",
   "metadata": {},
   "outputs": [],
   "source": [
    "DNN = Sequential()"
   ]
  },
  {
   "cell_type": "code",
   "execution_count": null,
   "id": "de0e65c7-0fba-4a92-ab78-b6f0e099a7bd",
   "metadata": {},
   "outputs": [],
   "source": [
    "DNN.add(Dense(50, activation='relu', input_dim = 34))\n",
    "DNN.add(Dense(50, activation='relu'))\n",
    "DNN.add(Dense(100, activation='relu'))\n",
    "DNN.add(Dense(50, activation='relu'))\n",
    "DNN.add(Dense(50, activation='relu'))\n",
    "DNN.add(Dense(2, activation = 'softmax'))\n"
   ]
  },
  {
   "cell_type": "code",
   "execution_count": null,
   "id": "89e02260-337f-45a7-8a27-ed9ebd1fe7aa",
   "metadata": {},
   "outputs": [],
   "source": [
    "DNN.compile(metrics=['accuracy'], optimizer='Adam', loss='mean_squared_error')"
   ]
  },
  {
   "cell_type": "code",
   "execution_count": null,
   "id": "864c621d-e399-4803-882a-e0802e7dc23e",
   "metadata": {},
   "outputs": [],
   "source": [
    "DNN.fit(data, label, validation_split = 0.1, epochs = 50, batch_size=100, shuffle=True)"
   ]
  },
  {
   "cell_type": "code",
   "execution_count": null,
   "id": "12abea59-1433-4652-9ad3-932a16b4501c",
   "metadata": {},
   "outputs": [],
   "source": [
    "DNN.save('data/model/youtube.h5')"
   ]
  }
 ],
 "metadata": {
  "kernelspec": {
   "display_name": "Python 3 (ipykernel)",
   "language": "python",
   "name": "python3"
  },
  "language_info": {
   "codemirror_mode": {
    "name": "ipython",
    "version": 3
   },
   "file_extension": ".py",
   "mimetype": "text/x-python",
   "name": "python",
   "nbconvert_exporter": "python",
   "pygments_lexer": "ipython3",
   "version": "3.8.11"
  }
 },
 "nbformat": 4,
 "nbformat_minor": 5
}
