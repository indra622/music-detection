{
 "cells": [
  {
   "cell_type": "code",
   "execution_count": 1,
   "id": "28cdfe27-7629-4b8c-8c22-0230506a4f04",
   "metadata": {},
   "outputs": [],
   "source": [
    "from src.featureExtract.feature import calFeatures\n",
    "from src.classifier.model import MusicClassifier\n",
    "from src.audioIO import record, load\n",
    "import wave\n",
    "import numpy as np\n",
    "import matplotlib.pyplot as plt"
   ]
  },
  {
   "cell_type": "code",
   "execution_count": 2,
   "id": "3555bf73-5ee9-4683-9705-f0c2763514ff",
   "metadata": {},
   "outputs": [],
   "source": [
    "model = MusicClassifier(\"data/model/demo_exp.h5\")\n",
    "model.getDataInfo(\"data/data_set/beatsdataset.csv\")"
   ]
  },
  {
   "cell_type": "code",
   "execution_count": 9,
   "id": "bcf36c4a-7e32-4b5e-b385-e805aaebd8d4",
   "metadata": {},
   "outputs": [
    {
     "name": "stdout",
     "output_type": "stream",
     "text": [
      "wav file infomation:\n",
      "length of wav file: 13559808\n",
      "sampling frequency is: 22050\n",
      "Length of input signal is 13559808\n",
      "Sampling frequency is 22050\n"
     ]
    }
   ],
   "source": [
    "feats, names = calFeatures('data/demo_chunks/371.wav')"
   ]
  },
  {
   "cell_type": "code",
   "execution_count": 10,
   "id": "bdfd36d5-90aa-413d-86d1-6065e9739d58",
   "metadata": {},
   "outputs": [],
   "source": [
    "result = model.detect(feats)"
   ]
  },
  {
   "cell_type": "code",
   "execution_count": 11,
   "id": "21ca90ad-bbf4-4a46-b4f7-71b353af2bc7",
   "metadata": {},
   "outputs": [
    {
     "data": {
      "text/plain": [
       "False"
      ]
     },
     "execution_count": 11,
     "metadata": {},
     "output_type": "execute_result"
    }
   ],
   "source": [
    "result"
   ]
  },
  {
   "cell_type": "code",
   "execution_count": 12,
   "id": "04fc82e7-ae6c-4fa7-81dc-716fc73ca4ca",
   "metadata": {},
   "outputs": [
    {
     "data": {
      "text/plain": [
       "['zcr',\n",
       " 'energy',\n",
       " 'energy_entropy',\n",
       " 'spectral_centroid',\n",
       " 'spectral_spread',\n",
       " 'spectral_entropy',\n",
       " 'spectral_flux',\n",
       " 'spectral_rolloff',\n",
       " 'mfcc_1',\n",
       " 'mfcc_2',\n",
       " 'mfcc_3',\n",
       " 'mfcc_4',\n",
       " 'mfcc_5',\n",
       " 'mfcc_6',\n",
       " 'mfcc_7',\n",
       " 'mfcc_8',\n",
       " 'mfcc_9',\n",
       " 'mfcc_10',\n",
       " 'mfcc_11',\n",
       " 'mfcc_12',\n",
       " 'mfcc_13',\n",
       " 'chroma_1',\n",
       " 'chroma_2',\n",
       " 'chroma_3',\n",
       " 'chroma_4',\n",
       " 'chroma_5',\n",
       " 'chroma_6',\n",
       " 'chroma_7',\n",
       " 'chroma_8',\n",
       " 'chroma_9',\n",
       " 'chroma_10',\n",
       " 'chroma_11',\n",
       " 'chroma_12',\n",
       " 'chroma_std']"
      ]
     },
     "execution_count": 12,
     "metadata": {},
     "output_type": "execute_result"
    }
   ],
   "source": [
    "names"
   ]
  },
  {
   "cell_type": "code",
   "execution_count": null,
   "id": "a080c7ad-6444-492d-90aa-0631e04ac8fa",
   "metadata": {},
   "outputs": [],
   "source": []
  }
 ],
 "metadata": {
  "kernelspec": {
   "display_name": "Python 3",
   "language": "python",
   "name": "python3"
  },
  "language_info": {
   "codemirror_mode": {
    "name": "ipython",
    "version": 3
   },
   "file_extension": ".py",
   "mimetype": "text/x-python",
   "name": "python",
   "nbconvert_exporter": "python",
   "pygments_lexer": "ipython3",
   "version": "3.6.13"
  }
 },
 "nbformat": 4,
 "nbformat_minor": 5
}
