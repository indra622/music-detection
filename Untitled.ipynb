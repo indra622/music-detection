{
 "cells": [
  {
   "cell_type": "code",
   "execution_count": 1,
   "id": "28cdfe27-7629-4b8c-8c22-0230506a4f04",
   "metadata": {},
   "outputs": [],
   "source": [
    "from src.featureExtract.feature import calFeature\n",
    "from src.classifier.model import MusicClassifier\n",
    "from src.audioIO import record, load\n",
    "import wave\n",
    "import numpy as np\n",
    "import matplotlib.pyplot as plt\n",
    "\n"
   ]
  },
  {
   "cell_type": "code",
   "execution_count": 2,
   "id": "3555bf73-5ee9-4683-9705-f0c2763514ff",
   "metadata": {},
   "outputs": [],
   "source": [
    "model = MusicClassifier(\"data/model/demo_exp.h5\")\n",
    "model.getDataInfo(\"data/data_set/beatsdataset.csv\")"
   ]
  },
  {
   "cell_type": "code",
   "execution_count": 3,
   "id": "bcf36c4a-7e32-4b5e-b385-e805aaebd8d4",
   "metadata": {},
   "outputs": [
    {
     "name": "stdout",
     "output_type": "stream",
     "text": [
      "wav file infomation:\n",
      "length of wav file: 4828672\n",
      "sampling frequency is: 22050\n",
      "Length of input signal is 4828672\n",
      "Sampling frequency is 22050\n"
     ]
    }
   ],
   "source": [
    "feats, names = calFeature('data/demo_chunks/dubstep.wav')"
   ]
  },
  {
   "cell_type": "code",
   "execution_count": 5,
   "id": "bdfd36d5-90aa-413d-86d1-6065e9739d58",
   "metadata": {},
   "outputs": [
    {
     "data": {
      "text/plain": [
       "(34, 1)"
      ]
     },
     "execution_count": 5,
     "metadata": {},
     "output_type": "execute_result"
    }
   ],
   "source": [
    "feats.shape"
   ]
  },
  {
   "cell_type": "code",
   "execution_count": null,
   "id": "21ca90ad-bbf4-4a46-b4f7-71b353af2bc7",
   "metadata": {},
   "outputs": [],
   "source": [
    "result = model.detect(feats)"
   ]
  }
 ],
 "metadata": {
  "kernelspec": {
   "display_name": "Python 3",
   "language": "python",
   "name": "python3"
  },
  "language_info": {
   "codemirror_mode": {
    "name": "ipython",
    "version": 3
   },
   "file_extension": ".py",
   "mimetype": "text/x-python",
   "name": "python",
   "nbconvert_exporter": "python",
   "pygments_lexer": "ipython3",
   "version": "3.6.13"
  }
 },
 "nbformat": 4,
 "nbformat_minor": 5
}
